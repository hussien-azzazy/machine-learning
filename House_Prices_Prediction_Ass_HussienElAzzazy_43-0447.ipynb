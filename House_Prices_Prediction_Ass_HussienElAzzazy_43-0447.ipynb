{
 "cells": [
  {
   "cell_type": "markdown",
   "metadata": {},
   "source": [
    "# Hussien ElAzzazy\n",
    "# 43-0447"
   ]
  },
  {
   "cell_type": "code",
   "execution_count": 1,
   "metadata": {
    "id": "zZfkG0mLeIUl"
   },
   "outputs": [],
   "source": [
    "import numpy as np\n",
    "import pandas as pd\n",
    "import matplotlib.pyplot as plt\n",
    "from sklearn.preprocessing import PolynomialFeatures\n",
    "from sklearn.model_selection import train_test_split\n",
    "from sklearn.datasets import load_boston\n",
    "from sklearn.metrics import mean_squared_error\n",
    "from sklearn.linear_model import LinearRegression"
   ]
  },
  {
   "cell_type": "code",
   "execution_count": 2,
   "metadata": {
    "colab": {
     "base_uri": "https://localhost:8080/"
    },
    "id": "A0B2sPrkeMoa",
    "outputId": "93740ff5-1704-4bc5-898f-1306ef43e3b5"
   },
   "outputs": [],
   "source": [
    "data = load_boston()\n",
    "feature_names = data.feature_names\n",
    "df = pd.DataFrame(data.data, columns=data.feature_names)\n",
    "df['MEDV'] = pd.Series(data.target)"
   ]
  },
  {
   "cell_type": "code",
   "execution_count": 3,
   "metadata": {
    "id": "ygZ97Mmnlayf"
   },
   "outputs": [],
   "source": [
    "df_X=df.drop('MEDV', axis=1, inplace=False)\n",
    "df_Y=df['MEDV']"
   ]
  },
  {
   "cell_type": "code",
   "execution_count": 4,
   "metadata": {
    "id": "Pg02awAqmI7o"
   },
   "outputs": [],
   "source": [
    "poly_reg_rmsearray=[]\n",
    "for i in range(1,8,1):\n",
    "  poly = PolynomialFeatures(degree= i, include_bias=False)\n",
    "  poly_features = poly.fit_transform(df_X)\n",
    "  X_train, X_test, y_train, y_test = train_test_split(poly_features, df_Y, test_size=0.4, random_state=1)\n",
    "  X_val, X_test, y_val, y_test = train_test_split(X_test, y_test, test_size=0.5, random_state=1)\n",
    "  poly_reg_model = LinearRegression()\n",
    "  poly_reg_model.fit(X_train, y_train)\n",
    "  poly_reg_y_predicted = poly_reg_model.predict(X_val)\n",
    "  poly_reg_rmse = np.sqrt(mean_squared_error(y_val, poly_reg_y_predicted))\n",
    "  poly_reg_rmsearray.append(poly_reg_rmse)"
   ]
  },
  {
   "cell_type": "code",
   "execution_count": 5,
   "metadata": {
    "colab": {
     "base_uri": "https://localhost:8080/"
    },
    "id": "wohplBmbvmcK",
    "outputId": "9180c45a-689b-41a5-f807-c87c47c19943"
   },
   "outputs": [
    {
     "name": "stdout",
     "output_type": "stream",
     "text": [
      "[5.456971927684734, 5.707016121364722, 75.68075670962305, 259.7072196018954, 291.33978137341796, 221.44143413910234, 226.1513671480718]\n"
     ]
    }
   ],
   "source": [
    "print(poly_reg_rmsearray)"
   ]
  },
  {
   "cell_type": "code",
   "execution_count": 6,
   "metadata": {
    "colab": {
     "base_uri": "https://localhost:8080/"
    },
    "id": "fXgF0dZHv8RK",
    "outputId": "5069938b-784c-4489-fd8e-022712d173bd"
   },
   "outputs": [
    {
     "data": {
      "text/plain": [
       "4.547289065278917"
      ]
     },
     "execution_count": 6,
     "metadata": {},
     "output_type": "execute_result"
    }
   ],
   "source": [
    "poly = PolynomialFeatures(degree= 1, include_bias=False)\n",
    "poly_features = poly.fit_transform(df_X)\n",
    "X_train, X_test, y_train, y_test = train_test_split(poly_features, df_Y, test_size=0.4, random_state=1)\n",
    "X_val, X_test, y_val, y_test = train_test_split(X_test, y_test, test_size=0.5, random_state=1)\n",
    "poly_reg_model = LinearRegression()\n",
    "poly_reg_model.fit(X_train, y_train)\n",
    "poly_reg_y_predicted = poly_reg_model.predict(X_test)\n",
    "poly_reg_rmse = np.sqrt(mean_squared_error(y_test, poly_reg_y_predicted))\n",
    "poly_reg_rmse"
   ]
  },
  {
   "cell_type": "code",
   "execution_count": 7,
   "metadata": {
    "colab": {
     "base_uri": "https://localhost:8080/"
    },
    "id": "lCelCi_v6UEd",
    "outputId": "d735597d-520f-4aa6-dd35-d26cf3970b49"
   },
   "outputs": [
    {
     "name": "stdout",
     "output_type": "stream",
     "text": [
      "training score for alpha= 1e-05 : 0.7468316515844864\n",
      "test score for alpha = 1e-05 : 0.7366333554323465\n",
      "training score for alpha= 0.0001 : 0.7468316090611659\n",
      "test score for alpha = 0.0001 : 0.7366212347000438\n",
      "training score for alpha= 0.001 : 0.7468273562228122\n",
      "test score for alpha = 0.001 : 0.7364961612391743\n",
      "training score for alpha= 0.01 : 0.7464028354764276\n",
      "test score for alpha = 0.01 : 0.7348628113960632\n",
      "training score for alpha= 0.1 : 0.7324473082335632\n",
      "test score for alpha = 0.1 : 0.7156255257568283\n"
     ]
    }
   ],
   "source": [
    "from sklearn.linear_model import Lasso\n",
    " \n",
    "alphaarray=[0.00001,0.0001,0.001,0.01,0.1] \n",
    "for i in alphaarray:\n",
    "  lasso = Lasso(alpha=i, max_iter=10e5)\n",
    "  lasso.fit(X_train,y_train)\n",
    "  train_score=lasso.score(X_train,y_train)\n",
    "  test_score=lasso.score(X_test,y_test) \n",
    "  print ('training score for alpha= ' + str(i) + ' :' , train_score) \n",
    "  print ('test score for alpha = ' + str(i) + ' :' , test_score)\n"
   ]
  },
  {
   "cell_type": "code",
   "execution_count": null,
   "metadata": {},
   "outputs": [],
   "source": []
  }
 ],
 "metadata": {
  "colab": {
   "collapsed_sections": [],
   "name": "Untitled19.ipynb",
   "provenance": []
  },
  "kernelspec": {
   "display_name": "Python 3",
   "language": "python",
   "name": "python3"
  },
  "language_info": {
   "codemirror_mode": {
    "name": "ipython",
    "version": 3
   },
   "file_extension": ".py",
   "mimetype": "text/x-python",
   "name": "python",
   "nbconvert_exporter": "python",
   "pygments_lexer": "ipython3",
   "version": "3.8.8"
  }
 },
 "nbformat": 4,
 "nbformat_minor": 1
}
